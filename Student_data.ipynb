{
 "cells": [
  {
   "cell_type": "code",
   "execution_count": null,
   "id": "69cde363-1f21-4c78-b60e-59658f8523ea",
   "metadata": {},
   "outputs": [],
   "source": []
  },
  {
   "cell_type": "code",
   "execution_count": 3,
   "id": "a734ff9f-6970-45df-9666-85654892a862",
   "metadata": {},
   "outputs": [
    {
     "name": "stdin",
     "output_type": "stream",
     "text": [
      "Enter the name of the student:  ewgd\n",
      "Enter the student ID:  342\n",
      "Enter the class of the student:  raenb\n",
      "Enter the passing marks required:  34\n",
      "Enter the marks scored by student:  32\n"
     ]
    },
    {
     "name": "stdout",
     "output_type": "stream",
     "text": [
      "✅ Student added!\n"
     ]
    },
    {
     "name": "stdin",
     "output_type": "stream",
     "text": [
      "Add another student? (yes/no):  grwnb\n"
     ]
    },
    {
     "name": "stdout",
     "output_type": "stream",
     "text": [
      "\n",
      "All student data:\n",
      "   Name Student Id  Class Passing Marks Score Result\n",
      "0  ewgd        342  raenb            34    32   Fail\n"
     ]
    }
   ],
   "source": [
    "import pandas as pd\n",
    "\n",
    "#Let's create a dataframe name stduent_data\n",
    "student_data = pd.DataFrame(columns =[ \"Name\", \"Student Id\", \"Class\", \"Passing Marks\", \"Score\",\"Result\"])\n",
    "\n",
    "# Now let's create a function to add data\n",
    "def add_student(df):\n",
    "    \n",
    "    name = input(\"Enter the name of the student: \")\n",
    "    student_id = int(input(\"Enter the student ID: \"))\n",
    "    Class = input(\"Enter the class of the student: \")\n",
    "    marks = int(input(\"Enter the passing marks required: \"))\n",
    "    score = int(input(\"Enter the marks scored by student: \"))\n",
    "    status = \"Pass\" if marks<=score else \"Fail\"\n",
    "    \n",
    "    #Create one row for the table\n",
    "    new_student = pd.DataFrame([[name,student_id, Class, marks, score,status]], columns=df.columns)\n",
    "\n",
    "    #Create new row for the table\n",
    "    df = pd.concat([df , new_student], ignore_index = True) \n",
    "    print(\"✅ Student added!\")\n",
    "    return(df)\n",
    "\n",
    "#Now let's put while loop here so that user can add multiple students without running the code again and again\n",
    "while True: \n",
    "    student_data = add_student(student_data)\n",
    "    Adding = input(\"Add another student? (yes/no): \").lower()\n",
    "    if Adding != 'yes':\n",
    "        break\n",
    "\n",
    "#Now when user is done with adding students and loop breaks we will print the output\n",
    "print(\"\\nAll student data:\")\n",
    "print(student_data)\n"
   ]
  },
  {
   "cell_type": "code",
   "execution_count": 4,
   "id": "8a36a402-b8d7-427f-8a19-5e89260bf7b1",
   "metadata": {},
   "outputs": [
    {
     "data": {
      "text/plain": [
       "'C:\\\\Users\\\\DaDhWaL'"
      ]
     },
     "execution_count": 4,
     "metadata": {},
     "output_type": "execute_result"
    }
   ],
   "source": [
    "pwd\n"
   ]
  },
  {
   "cell_type": "code",
   "execution_count": null,
   "id": "097840a6-6ca9-40b3-ac22-17a72b14cbab",
   "metadata": {},
   "outputs": [],
   "source": []
  }
 ],
 "metadata": {
  "kernelspec": {
   "display_name": "Python [conda env:base] *",
   "language": "python",
   "name": "conda-base-py"
  },
  "language_info": {
   "codemirror_mode": {
    "name": "ipython",
    "version": 3
   },
   "file_extension": ".py",
   "mimetype": "text/x-python",
   "name": "python",
   "nbconvert_exporter": "python",
   "pygments_lexer": "ipython3",
   "version": "3.12.7"
  }
 },
 "nbformat": 4,
 "nbformat_minor": 5
}
